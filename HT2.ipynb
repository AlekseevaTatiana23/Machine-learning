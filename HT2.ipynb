{
  "cells": [
    {
      "cell_type": "markdown",
      "metadata": {
        "id": "view-in-github",
        "colab_type": "text"
      },
      "source": [
        "<a href=\"https://colab.research.google.com/github/AlekseevaTatiana23/Machine-learning/blob/main/HT2.ipynb\" target=\"_parent\"><img src=\"https://colab.research.google.com/assets/colab-badge.svg\" alt=\"Open In Colab\"/></a>"
      ]
    },
    {
      "cell_type": "markdown",
      "id": "767c43a2",
      "metadata": {
        "id": "767c43a2"
      },
      "source": [
        "# Урок 2. Регрессия на практике\n",
        "\n",
        "Пусть у нас имеется некоторый набор данных sales.csv о продажах квартир.\n",
        "— цена продажи (SalePrice, зависимая переменная),\n",
        "— наземная жилая зона (GrLivArea),\n",
        "— общее качество (Overall Quality),\n",
        "— территория гаража (GarageArea),\n",
        "— условия сделки (SaleCondition).\n",
        "Реализуйте построение модели линейной регрессии на этих данных. Проверьте качество модели на обучающей и тестовой выборках с помощью MAE, MSE."
      ]
    },
    {
      "cell_type": "code",
      "execution_count": 12,
      "id": "c884826d",
      "metadata": {
        "id": "c884826d"
      },
      "outputs": [],
      "source": [
        "import pandas as pd\n",
        "from sklearn.model_selection import train_test_split\n",
        "from sklearn.linear_model import LinearRegression\n",
        "from sklearn.metrics import mean_absolute_error, mean_squared_error\n",
        "\n"
      ]
    },
    {
      "cell_type": "code",
      "source": [
        "# Загрузка данных\n",
        "data = pd.read_csv('sales.csv')\n",
        "\n"
      ],
      "metadata": {
        "id": "M1k-sPq7crlg"
      },
      "id": "M1k-sPq7crlg",
      "execution_count": 13,
      "outputs": []
    },
    {
      "cell_type": "code",
      "source": [
        "# Выбираем признаки и целевую переменную\n",
        "features = ['GrLivArea', 'OverallQual', 'GarageArea', 'SaleCondition']\n",
        "target = 'SalePrice'\n",
        "\n"
      ],
      "metadata": {
        "id": "UoUgntnDcroA"
      },
      "id": "UoUgntnDcroA",
      "execution_count": 14,
      "outputs": []
    },
    {
      "cell_type": "code",
      "source": [
        "# Обработка категориальных признаков\n",
        "# Предположим, SaleCondition — категориальный признак\n",
        "# Тогда применяем one-hot encoding\n",
        "data = pd.get_dummies(data, columns=['SaleCondition'], drop_first=True)\n",
        "\n",
        "# Обновляем список признаков после one-hot encoding\n",
        "features = ['GrLivArea', 'OverallQual', 'GarageArea'] + [col for col in data.columns if col.startswith('SaleCondition_')]\n",
        "\n"
      ],
      "metadata": {
        "id": "fS1dZs9gcwBX"
      },
      "id": "fS1dZs9gcwBX",
      "execution_count": 15,
      "outputs": []
    },
    {
      "cell_type": "code",
      "source": [
        "X = data[features]\n",
        "y = data[target]\n",
        "\n",
        "# Разделение на обучающую и тестовую выборки\n",
        "X_train, X_test, y_train, y_test = train_test_split(X, y, test_size=0.2, random_state=42)\n",
        "\n"
      ],
      "metadata": {
        "id": "5_PqmyXPcyx0"
      },
      "id": "5_PqmyXPcyx0",
      "execution_count": 16,
      "outputs": []
    },
    {
      "cell_type": "code",
      "source": [
        "# Построение модели линейной регрессии\n",
        "model = LinearRegression()\n",
        "model.fit(X_train, y_train)\n",
        "\n",
        "# Предсказания\n",
        "y_train_pred = model.predict(X_train)\n",
        "y_test_pred = model.predict(X_test)\n",
        "\n"
      ],
      "metadata": {
        "id": "_17TYrbdc0qm"
      },
      "id": "_17TYrbdc0qm",
      "execution_count": 17,
      "outputs": []
    },
    {
      "cell_type": "code",
      "source": [
        "# Оценка качества модели\n",
        "print(\"Обучающая выборка:\")\n",
        "print(\"MAE:\", mean_absolute_error(y_train, y_train_pred))\n",
        "print(\"MSE:\", mean_squared_error(y_train, y_train_pred))\n",
        "\n",
        "print(\"\\nТестовая выборка:\")\n",
        "print(\"MAE:\", mean_absolute_error(y_test, y_test_pred))\n",
        "print(\"MSE:\", mean_squared_error(y_test, y_test_pred))"
      ],
      "metadata": {
        "colab": {
          "base_uri": "https://localhost:8080/"
        },
        "id": "oCRVuol5c21a",
        "outputId": "17349ee7-9d85-4c6a-e547-135b4b3d6713"
      },
      "id": "oCRVuol5c21a",
      "execution_count": 18,
      "outputs": [
        {
          "output_type": "stream",
          "name": "stdout",
          "text": [
            "Обучающая выборка:\n",
            "MAE: 26165.87560505547\n",
            "MSE: 1550881417.4177792\n",
            "\n",
            "Тестовая выборка:\n",
            "MAE: 27147.252196384103\n",
            "MSE: 1749914767.1607716\n"
          ]
        }
      ]
    }
  ],
  "metadata": {
    "kernelspec": {
      "display_name": "Python 3 (ipykernel)",
      "language": "python",
      "name": "python3"
    },
    "language_info": {
      "codemirror_mode": {
        "name": "ipython",
        "version": 3
      },
      "file_extension": ".py",
      "mimetype": "text/x-python",
      "name": "python",
      "nbconvert_exporter": "python",
      "pygments_lexer": "ipython3",
      "version": "3.11.5"
    },
    "colab": {
      "provenance": [],
      "include_colab_link": true
    }
  },
  "nbformat": 4,
  "nbformat_minor": 5
}
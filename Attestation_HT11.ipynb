{
  "cells": [
    {
      "cell_type": "markdown",
      "metadata": {
        "id": "view-in-github",
        "colab_type": "text"
      },
      "source": [
        "<a href=\"https://colab.research.google.com/github/AlekseevaTatiana23/Machine-learning/blob/main/Attestation_HT11.ipynb\" target=\"_parent\"><img src=\"https://colab.research.google.com/assets/colab-badge.svg\" alt=\"Open In Colab\"/></a>"
      ]
    },
    {
      "cell_type": "markdown",
      "id": "767c43a2",
      "metadata": {
        "id": "767c43a2"
      },
      "source": [
        "# Урок 11. Качество модели и её улучшение\n",
        "Тебе предстоит разработать модель машинного обучения для предсказания вероятности оттока клиентов в телекоммуникационной компании. У тебя есть набор данных, который содержит различные признаки о клиентах, такие как возраст, пол, тип подключения, длительность пользования услугами и т.д.\n",
        "\n",
        "Твоя задача состоит в следующем:\n",
        "\n",
        "1. Загрузить данные и провести предварительный анализ данных.\n",
        "\n",
        "2. Подготовить данные для обучения модели. Это может включать удаление ненужных признаков, заполнение пропущенных значений и нормализацию данных.\n",
        "\n",
        "3. Разделить данные на обучающую и тестовую выборки.\n",
        "\n",
        "4. Выбрать модель машинного обучения, которую ты хочешь использовать для предсказания оттока клиентов. Например, можно использовать модель классификации, такую как логистическая регрессия или случайный лес.\n",
        "\n",
        "5. Обучить модель на обучающей выборке и оценить ее производительность на тестовой выборке.\n",
        "\n",
        "6. Провести анализ результатов и оценить важность различных признаков для предсказания оттока клиентов.\n",
        "\n",
        "7. При необходимости, провести дополнительные эксперименты, чтобы улучшить производительность модели. Это может включать изменение параметров модели, добавление новых признаков или использование другой модели машинного обучения."
      ]
    },
    {
      "cell_type": "code",
      "execution_count": null,
      "id": "c884826d",
      "metadata": {
        "id": "c884826d"
      },
      "outputs": [],
      "source": [
        "import pandas as pd\n",
        "import numpy as np\n",
        "from sklearn.model_selection import train_test_split, cross_val_score, GridSearchCV\n",
        "from sklearn.ensemble import RandomForestClassifier\n",
        "from sklearn.metrics import accuracy_score, classification_report\n",
        "from sklearn.preprocessing import StandardScaler, LabelEncoder\n",
        "\n",
        "\n",
        "\n"
      ]
    },
    {
      "cell_type": "code",
      "execution_count": null,
      "id": "M1k-sPq7crlg",
      "metadata": {
        "colab": {
          "base_uri": "https://localhost:8080/"
        },
        "id": "M1k-sPq7crlg",
        "outputId": "f3269909-a442-4630-eef8-566ada670f73"
      },
      "outputs": [
        {
          "name": "stdout",
          "output_type": "stream",
          "text": [
            "<class 'pandas.core.frame.DataFrame'>\n",
            "RangeIndex: 3333 entries, 0 to 3332\n",
            "Data columns (total 20 columns):\n",
            " #   Column                  Non-Null Count  Dtype  \n",
            "---  ------                  --------------  -----  \n",
            " 0   State                   3333 non-null   object \n",
            " 1   Account length          3333 non-null   int64  \n",
            " 2   Area code               3333 non-null   int64  \n",
            " 3   International plan      3333 non-null   object \n",
            " 4   Voice mail plan         3333 non-null   object \n",
            " 5   Number vmail messages   3333 non-null   int64  \n",
            " 6   Total day minutes       3333 non-null   float64\n",
            " 7   Total day calls         3333 non-null   int64  \n",
            " 8   Total day charge        3333 non-null   float64\n",
            " 9   Total eve minutes       3333 non-null   float64\n",
            " 10  Total eve calls         3333 non-null   int64  \n",
            " 11  Total eve charge        3333 non-null   float64\n",
            " 12  Total night minutes     3333 non-null   float64\n",
            " 13  Total night calls       3333 non-null   int64  \n",
            " 14  Total night charge      3333 non-null   float64\n",
            " 15  Total intl minutes      3333 non-null   float64\n",
            " 16  Total intl calls        3333 non-null   int64  \n",
            " 17  Total intl charge       3333 non-null   float64\n",
            " 18  Customer service calls  3333 non-null   int64  \n",
            " 19  Churn                   3333 non-null   bool   \n",
            "dtypes: bool(1), float64(8), int64(8), object(3)\n",
            "memory usage: 498.1+ KB\n",
            "None\n",
            "       Account length    Area code  Number vmail messages  Total day minutes  \\\n",
            "count     3333.000000  3333.000000            3333.000000        3333.000000   \n",
            "mean       101.064806   437.182418               8.099010         179.775098   \n",
            "std         39.822106    42.371290              13.688365          54.467389   \n",
            "min          1.000000   408.000000               0.000000           0.000000   \n",
            "25%         74.000000   408.000000               0.000000         143.700000   \n",
            "50%        101.000000   415.000000               0.000000         179.400000   \n",
            "75%        127.000000   510.000000              20.000000         216.400000   \n",
            "max        243.000000   510.000000              51.000000         350.800000   \n",
            "\n",
            "       Total day calls  Total day charge  Total eve minutes  Total eve calls  \\\n",
            "count      3333.000000       3333.000000        3333.000000      3333.000000   \n",
            "mean        100.435644         30.562307         200.980348       100.114311   \n",
            "std          20.069084          9.259435          50.713844        19.922625   \n",
            "min           0.000000          0.000000           0.000000         0.000000   \n",
            "25%          87.000000         24.430000         166.600000        87.000000   \n",
            "50%         101.000000         30.500000         201.400000       100.000000   \n",
            "75%         114.000000         36.790000         235.300000       114.000000   \n",
            "max         165.000000         59.640000         363.700000       170.000000   \n",
            "\n",
            "       Total eve charge  Total night minutes  Total night calls  \\\n",
            "count       3333.000000          3333.000000        3333.000000   \n",
            "mean          17.083540           200.872037         100.107711   \n",
            "std            4.310668            50.573847          19.568609   \n",
            "min            0.000000            23.200000          33.000000   \n",
            "25%           14.160000           167.000000          87.000000   \n",
            "50%           17.120000           201.200000         100.000000   \n",
            "75%           20.000000           235.300000         113.000000   \n",
            "max           30.910000           395.000000         175.000000   \n",
            "\n",
            "       Total night charge  Total intl minutes  Total intl calls  \\\n",
            "count         3333.000000         3333.000000       3333.000000   \n",
            "mean             9.039325           10.237294          4.479448   \n",
            "std              2.275873            2.791840          2.461214   \n",
            "min              1.040000            0.000000          0.000000   \n",
            "25%              7.520000            8.500000          3.000000   \n",
            "50%              9.050000           10.300000          4.000000   \n",
            "75%             10.590000           12.100000          6.000000   \n",
            "max             17.770000           20.000000         20.000000   \n",
            "\n",
            "       Total intl charge  Customer service calls  \n",
            "count        3333.000000             3333.000000  \n",
            "mean            2.764581                1.562856  \n",
            "std             0.753773                1.315491  \n",
            "min             0.000000                0.000000  \n",
            "25%             2.300000                1.000000  \n",
            "50%             2.780000                1.000000  \n",
            "75%             3.270000                2.000000  \n",
            "max             5.400000                9.000000  \n",
            "Churn\n",
            "False    2850\n",
            "True      483\n",
            "Name: count, dtype: int64\n",
            "State                     0\n",
            "Account length            0\n",
            "Area code                 0\n",
            "International plan        0\n",
            "Voice mail plan           0\n",
            "Number vmail messages     0\n",
            "Total day minutes         0\n",
            "Total day calls           0\n",
            "Total day charge          0\n",
            "Total eve minutes         0\n",
            "Total eve calls           0\n",
            "Total eve charge          0\n",
            "Total night minutes       0\n",
            "Total night calls         0\n",
            "Total night charge        0\n",
            "Total intl minutes        0\n",
            "Total intl calls          0\n",
            "Total intl charge         0\n",
            "Customer service calls    0\n",
            "Churn                     0\n",
            "dtype: int64\n"
          ]
        }
      ],
      "source": [
        "# 1. Загрузка данных и предварительный анализ\n",
        "data = pd.read_csv('telecom_churn.csv')\n",
        "print(data.info())\n",
        "print(data.describe())\n",
        "print(data['Churn'].value_counts())\n",
        "\n",
        "# Предположим, что признак 'Churn' — целевая переменная (1 — ушёл, 0 — остался)\n",
        "# Посмотрим на пропуски\n",
        "print(data.isnull().sum())\n",
        "\n",
        "\n",
        "\n",
        "\n"
      ]
    },
    {
      "cell_type": "code",
      "execution_count": null,
      "id": "UoUgntnDcroA",
      "metadata": {
        "colab": {
          "base_uri": "https://localhost:8080/"
        },
        "id": "UoUgntnDcroA",
        "outputId": "1fc494ac-10ef-4dcb-e162-c1d21d063ae0"
      },
      "outputs": [
        {
          "name": "stderr",
          "output_type": "stream",
          "text": [
            "/tmp/ipython-input-37-278086553.py:9: FutureWarning: A value is trying to be set on a copy of a DataFrame or Series through chained assignment using an inplace method.\n",
            "The behavior will change in pandas 3.0. This inplace method will never work because the intermediate object on which we are setting values always behaves as a copy.\n",
            "\n",
            "For example, when doing 'df[col].method(value, inplace=True)', try using 'df.method({col: value}, inplace=True)' or df[col] = df[col].method(value) instead, to perform the operation inplace on the original object.\n",
            "\n",
            "\n",
            "  data[col].fillna(data[col].median(), inplace=True)\n",
            "/tmp/ipython-input-37-278086553.py:13: FutureWarning: A value is trying to be set on a copy of a DataFrame or Series through chained assignment using an inplace method.\n",
            "The behavior will change in pandas 3.0. This inplace method will never work because the intermediate object on which we are setting values always behaves as a copy.\n",
            "\n",
            "For example, when doing 'df[col].method(value, inplace=True)', try using 'df.method({col: value}, inplace=True)' or df[col] = df[col].method(value) instead, to perform the operation inplace on the original object.\n",
            "\n",
            "\n",
            "  data[col].fillna(data[col].mode()[0], inplace=True)\n"
          ]
        }
      ],
      "source": [
        "# 2. Предварительная подготовка данных\n",
        "# Удалим ненужные признаки (например, идентификаторы)\n",
        "if 'customerID' in data.columns:\n",
        "    data = data.drop('customerID', axis=1)\n",
        "\n",
        "# Заполнение пропусков (если есть)\n",
        "# Например, для числовых признаков\n",
        "for col in data.select_dtypes(include=['float64', 'int64']).columns:\n",
        "    data[col].fillna(data[col].median(), inplace=True)\n",
        "\n",
        "# Для категориальных признаков\n",
        "for col in data.select_dtypes(include=['object']).columns:\n",
        "    data[col].fillna(data[col].mode()[0], inplace=True)\n",
        "\n",
        "# Кодирование категориальных признаков\n",
        "# Можно использовать LabelEncoder или OneHotEncoder\n",
        "# Для простоты используем LabelEncoder\n",
        "label_encoders = {}\n",
        "for col in data.select_dtypes(include=['object']).columns:\n",
        "    le = LabelEncoder()\n",
        "    data[col] = le.fit_transform(data[col])\n",
        "    label_encoders[col] = le\n",
        "\n",
        "# Разделение признаков и целевой переменной\n",
        "X = data.drop('Churn', axis=1)\n",
        "y = data['Churn']\n",
        "\n",
        "\n"
      ]
    },
    {
      "cell_type": "code",
      "execution_count": 43,
      "id": "5_PqmyXPcyx0",
      "metadata": {
        "id": "5_PqmyXPcyx0"
      },
      "outputs": [],
      "source": [
        "# 3. Разделение на обучающую и тестовую выборки\n",
        "X_train, X_test, y_train, y_test = train_test_split(\n",
        "    X, y, test_size=0.2, random_state=42, stratify=y\n",
        ")\n",
        "\n",
        "# Масштабирование признаков (важно для некоторых моделей)\n",
        "scaler = StandardScaler()\n",
        "X_train = scaler.fit_transform(X_train)\n",
        "X_test = scaler.transform(X_test)\n"
      ]
    },
    {
      "cell_type": "code",
      "execution_count": 42,
      "id": "_17TYrbdc0qm",
      "metadata": {
        "colab": {
          "base_uri": "https://localhost:8080/"
        },
        "id": "_17TYrbdc0qm",
        "outputId": "ef19179b-041b-4ece-df6f-677eefcdc82f"
      },
      "outputs": [
        {
          "output_type": "stream",
          "name": "stdout",
          "text": [
            "Accuracy: 0.943\n",
            "Classification report:\n",
            "               precision    recall  f1-score   support\n",
            "\n",
            "       False       0.95      0.99      0.97       570\n",
            "        True       0.90      0.68      0.78        97\n",
            "\n",
            "    accuracy                           0.94       667\n",
            "   macro avg       0.93      0.83      0.87       667\n",
            "weighted avg       0.94      0.94      0.94       667\n",
            "\n"
          ]
        }
      ],
      "source": [
        "# 4. Выбор модели — например, случайный лес\n",
        "model = RandomForestClassifier(n_estimators=100, random_state=42)\n",
        "\n",
        "# 5. Обучение и оценка\n",
        "model.fit(X_train, y_train)\n",
        "y_pred = model.predict(X_test)\n",
        "print(f\"Accuracy: {accuracy_score(y_test, y_pred):.3f}\")\n",
        "print(\"Classification report:\\n\", classification_report(y_test, y_pred))"
      ]
    },
    {
      "cell_type": "markdown",
      "source": [
        "Точность модели составляет примерно 94%, что говорит о хорошей предсказательной способности. В отчёте также видно, что модель хорошо распознает клиентов, которые уйдут (True), хотя есть небольшая разница в показателях recall и f1-score для этого класса."
      ],
      "metadata": {
        "id": "G5lE7HrIxTmV"
      },
      "id": "G5lE7HrIxTmV"
    },
    {
      "cell_type": "code",
      "execution_count": null,
      "id": "oCRVuol5c21a",
      "metadata": {
        "colab": {
          "base_uri": "https://localhost:8080/"
        },
        "id": "oCRVuol5c21a",
        "outputId": "74e18d52-369b-42aa-ea19-cbaf774903b8"
      },
      "outputs": [
        {
          "name": "stdout",
          "output_type": "stream",
          "text": [
            "                   feature  importance\n",
            "6        Total day minutes    0.150866\n",
            "8         Total day charge    0.131086\n",
            "18  Customer service calls    0.125301\n",
            "3       International plan    0.072397\n",
            "9        Total eve minutes    0.062197\n",
            "11        Total eve charge    0.061623\n",
            "16        Total intl calls    0.048309\n",
            "15      Total intl minutes    0.042353\n",
            "17       Total intl charge    0.037553\n",
            "5    Number vmail messages    0.032786\n",
            "7          Total day calls    0.032273\n",
            "14      Total night charge    0.032154\n",
            "12     Total night minutes    0.032087\n",
            "1           Account length    0.030770\n",
            "13       Total night calls    0.029843\n",
            "10         Total eve calls    0.026097\n",
            "0                    State    0.024460\n",
            "4          Voice mail plan    0.020572\n",
            "2                Area code    0.007272\n"
          ]
        }
      ],
      "source": [
        "# 6. Анализ важности признаков\n",
        "importances = model.feature_importances_\n",
        "feature_names = X.columns if hasattr(X, 'columns') else [f'feature_{i}' for i in range(X.shape[1])]\n",
        "importance_df = pd.DataFrame({'feature': feature_names, 'importance': importances})\n",
        "importance_df = importance_df.sort_values(by='importance', ascending=False)\n",
        "print(importance_df)\n",
        "\n"
      ]
    },
    {
      "cell_type": "markdown",
      "source": [
        "Самыми важными являются:\n",
        "\n",
        "Total day minutes (0.151)\n",
        "Total day charge (0.131)\n",
        "Customer service calls (0.125)\n",
        "International plan (0.072)\n",
        "Это говорит о том, что длительность дневных звонков, связанные с ними расходы, а также количество обращений в службу поддержки существенно влияют на вероятность ухода клиента."
      ],
      "metadata": {
        "id": "Gz-Ykir5xgMc"
      },
      "id": "Gz-Ykir5xgMc"
    },
    {
      "cell_type": "code",
      "execution_count": null,
      "id": "grwvTz0Te2oo",
      "metadata": {
        "colab": {
          "background_save": true
        },
        "id": "grwvTz0Te2oo",
        "outputId": "1e57f755-5acf-495b-a1a1-47d62ffc3ff9"
      },
      "outputs": [
        {
          "name": "stdout",
          "output_type": "stream",
          "text": [
            "Лучшие параметры: {'max_depth': None, 'min_samples_split': 5, 'n_estimators': 200}\n",
            "Лучшая точность по кросс-валидации: 0.957\n",
            "Точность финальной модели: 0.940\n",
            "Финальный отчет:\n",
            "               precision    recall  f1-score   support\n",
            "\n",
            "       False       0.95      0.99      0.97       570\n",
            "        True       0.89      0.67      0.76        97\n",
            "\n",
            "    accuracy                           0.94       667\n",
            "   macro avg       0.92      0.83      0.87       667\n",
            "weighted avg       0.94      0.94      0.94       667\n",
            "\n"
          ]
        }
      ],
      "source": [
        "# 7. Улучшение модели — например, подбор гиперпараметров\n",
        "param_grid = {\n",
        "    'n_estimators': [100, 200],\n",
        "    'max_depth': [None, 10, 20],\n",
        "    'min_samples_split': [2, 5, 10]\n",
        "}\n",
        "\n",
        "grid = GridSearchCV(RandomForestClassifier(random_state=42), param_grid, cv=5, scoring='accuracy', n_jobs=-1)\n",
        "grid.fit(X_train, y_train)\n",
        "\n",
        "print(f\"Лучшие параметры: {grid.best_params_}\")\n",
        "print(f\"Лучшая точность по кросс-валидации: {grid.best_score_:.3f}\")\n",
        "\n",
        "# Обучение финальной модели с лучшими гиперпараметрами\n",
        "best_model = grid.best_estimator_\n",
        "best_model.fit(X_train, y_train)\n",
        "final_pred = best_model.predict(X_test)\n",
        "print(f\"Точность финальной модели: {accuracy_score(y_test, final_pred):.3f}\")\n",
        "print(\"Финальный отчет:\\n\", classification_report(y_test, final_pred))\n",
        "\n"
      ]
    },
    {
      "cell_type": "markdown",
      "source": [
        "Оптимальные параметры модели:\n",
        "\n",
        "max_depth: без ограничения\n",
        "\n",
        "\n",
        "min_samples_split: 5\n",
        "\n",
        "\n",
        "n_estimators: 200\n",
        "\n",
        "\n",
        "Это позволило достичь кросс-валидационной точности до 95.7%, что значительно превосходит исходную.\n",
        "\n",
        " Финальная модель показывает:\n",
        "\n",
        "Общую точность около 94%\n",
        "\n",
        "\n",
        "Высокий recall для класса False (99%), что важно для минимизации пропущенных случаев\n",
        "\n",
        "\n",
        "Немного ниже recall для класса True (67%), что можно дополнительно улучшить, если нужно"
      ],
      "metadata": {
        "id": "uiiJB8BmxoWS"
      },
      "id": "uiiJB8BmxoWS"
    }
  ],
  "metadata": {
    "colab": {
      "provenance": [],
      "include_colab_link": true
    },
    "kernelspec": {
      "display_name": "Python 3 (ipykernel)",
      "language": "python",
      "name": "python3"
    },
    "language_info": {
      "codemirror_mode": {
        "name": "ipython",
        "version": 3
      },
      "file_extension": ".py",
      "mimetype": "text/x-python",
      "name": "python",
      "nbconvert_exporter": "python",
      "pygments_lexer": "ipython3",
      "version": "3.11.5"
    }
  },
  "nbformat": 4,
  "nbformat_minor": 5
}
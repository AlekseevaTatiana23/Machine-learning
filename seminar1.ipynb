{
  "cells": [
    {
      "cell_type": "markdown",
      "metadata": {
        "id": "view-in-github",
        "colab_type": "text"
      },
      "source": [
        "<a href=\"https://colab.research.google.com/github/AlekseevaTatiana23/Machine-learning/blob/main/seminar1.ipynb\" target=\"_parent\"><img src=\"https://colab.research.google.com/assets/colab-badge.svg\" alt=\"Open In Colab\"/></a>"
      ]
    },
    {
      "cell_type": "code",
      "source": [
        "from sklearn import datasets\n",
        "breast_cancer_dataset = datasets.load_breast_cancer()"
      ],
      "metadata": {
        "id": "7lxL3dbHoDiA"
      },
      "execution_count": 1,
      "outputs": []
    },
    {
      "cell_type": "code",
      "source": [
        "import numpy as np"
      ],
      "metadata": {
        "id": "bl-9qC4ppCkm"
      },
      "execution_count": 2,
      "outputs": []
    },
    {
      "cell_type": "code",
      "source": [],
      "metadata": {
        "id": "vBQkacV6pK8d"
      },
      "execution_count": null,
      "outputs": []
    },
    {
      "cell_type": "code",
      "source": [
        "actual_values = np.array([100, 150, 200, 250])\n",
        "predicted_values = np.array([90, 140, 180, 270])\n",
        "#Расчет МАЕ (средней абсолютной ошибки)\n",
        "mae = np.mean(np.abs(actual_values-predicted_values))\n",
        "print('MAE:', mae)\n",
        "\n",
        "#Значение MAE равно 15. Это значение показывает среднее абсолютное отклонение предсказанных значений от фактических. MAE более интуитивно понятно, так как оно выражает среднюю ошибку в тех же единицах, что и целевая переменная.\\n\",\n",
        "#\"MAE менее чувствителен к большим ошибкам по сравнению с MSE, что делает его более устойчивым показателем, особенно в случаях, когда данные могут содержать выбросы"
      ],
      "metadata": {
        "id": "QwBiVMCGo0M0",
        "outputId": "f8320d0b-6efb-428a-841a-d54ff8eec381",
        "colab": {
          "base_uri": "https://localhost:8080/"
        }
      },
      "execution_count": 4,
      "outputs": [
        {
          "output_type": "stream",
          "name": "stdout",
          "text": [
            "MAE: 15.0\n"
          ]
        }
      ]
    },
    {
      "cell_type": "code",
      "source": [
        "#Расчет МSЕ (среднеквадратичной ошибки)\n",
        "mse = np.mean((actual_values-predicted_values)**2)\n",
        "print('MSE:', mse)\n",
        "\n",
        "#Значение MSE равно 250. Это значение показывает среднее квадратичное отклонение предсказанных значений от фактических. Поскольку MSE учитывает квадраты разностей, оно более чувствительно к большим ошибкам. Это означает, что если есть большие отклонения между предсказанными и фактическими значениями, MSE будет значительно увеличиваться.\\n\",\n",
        "#\"Например, в нашем случае предсказанное значение для последнего наблюдения (270) значительно отклоняется от фактического (250), что вносит большой вклад в MSE. Это делает MSE полезным для выявления моделей, которые могут иметь большие ошибки, но также может быть менее устойчивым к выбросам."
      ],
      "metadata": {
        "id": "D64j2uQGpGLJ",
        "outputId": "9ed5a1fb-f61f-4768-b11f-2ea4068a4d30",
        "colab": {
          "base_uri": "https://localhost:8080/"
        }
      },
      "execution_count": 5,
      "outputs": [
        {
          "output_type": "stream",
          "name": "stdout",
          "text": [
            "MSE: 250.0\n"
          ]
        }
      ]
    },
    {
      "cell_type": "markdown",
      "source": [
        "Меньшие значения MSE и MAE указывают на лучшую точность предсказания. Если обе функции потерь имеют низкие значения, это говорит о том, что модель хорошо предсказывает целевую переменную.\\n\",\n",
        "    \"*   Если MSE и MAE высоки, это указывает на то, что предсказания модели далеки от фактических значений, и модель требует улучшения.\\n\",\n",
        "    \"* Важно также учитывать контекст задачи. Например, в некоторых приложениях может быть более критично минимизировать большие ошибки (в этом случае MSE будет более предпочтительным), в то время как в других случаях важно иметь стабильные и предсказуемые ошибки (MAE может быть более подходящим)"
      ],
      "metadata": {
        "id": "TH4bLaxVrvKx"
      }
    }
  ],
  "metadata": {
    "colab": {
      "name": "Добро пожаловать в Colab!",
      "toc_visible": true,
      "provenance": [],
      "include_colab_link": true
    },
    "kernelspec": {
      "display_name": "Python 3",
      "name": "python3"
    }
  },
  "nbformat": 4,
  "nbformat_minor": 0
}